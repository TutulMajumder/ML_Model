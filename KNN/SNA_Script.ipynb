{
 "cells": [
  {
   "cell_type": "markdown",
   "id": "9c5d1b0b",
   "metadata": {},
   "source": [
    "## Using KNN on the Social Network Ads dataset"
   ]
  },
  {
   "cell_type": "code",
   "execution_count": 3,
   "id": "08ff6344",
   "metadata": {},
   "outputs": [],
   "source": [
    "import pandas as pd\n",
    "import numpy as np\n",
    "import matplotlib.pyplot as plt\n",
    "from sklearn.model_selection import train_test_split\n",
    "from sklearn.neighbors import KNeighborsClassifier\n",
    "from sklearn.metrics import accuracy_score, classification_report"
   ]
  },
  {
   "cell_type": "code",
   "execution_count": null,
   "id": "7c8cf2d4",
   "metadata": {},
   "outputs": [],
   "source": [
    "sna=pd.re"
   ]
  }
 ],
 "metadata": {
  "kernelspec": {
   "display_name": "menv",
   "language": "python",
   "name": "python3"
  },
  "language_info": {
   "codemirror_mode": {
    "name": "ipython",
    "version": 3
   },
   "file_extension": ".py",
   "mimetype": "text/x-python",
   "name": "python",
   "nbconvert_exporter": "python",
   "pygments_lexer": "ipython3",
   "version": "3.12.5"
  }
 },
 "nbformat": 4,
 "nbformat_minor": 5
}
